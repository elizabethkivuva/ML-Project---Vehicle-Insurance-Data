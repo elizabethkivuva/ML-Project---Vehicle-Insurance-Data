{
 "cells": [
  {
   "cell_type": "code",
   "execution_count": 1,
   "id": "b51c6f40",
   "metadata": {},
   "outputs": [],
   "source": [
    "# import libraries\n",
    "import numpy as np\n",
    "import matplotlib.pyplot as plt\n",
    "import pandas as pd\n",
    "import seaborn as sns\n",
    "\n",
    "# ignore warnings\n",
    "import warnings\n",
    "warnings.filterwarnings('ignore')"
   ]
  },
  {
   "cell_type": "code",
   "execution_count": 2,
   "id": "6ed7503c",
   "metadata": {},
   "outputs": [
    {
     "data": {
      "text/html": [
       "<div>\n",
       "<style scoped>\n",
       "    .dataframe tbody tr th:only-of-type {\n",
       "        vertical-align: middle;\n",
       "    }\n",
       "\n",
       "    .dataframe tbody tr th {\n",
       "        vertical-align: top;\n",
       "    }\n",
       "\n",
       "    .dataframe thead th {\n",
       "        text-align: right;\n",
       "    }\n",
       "</style>\n",
       "<table border=\"1\" class=\"dataframe\">\n",
       "  <thead>\n",
       "    <tr style=\"text-align: right;\">\n",
       "      <th></th>\n",
       "      <th>SEX</th>\n",
       "      <th>INSR_BEGIN</th>\n",
       "      <th>INSR_END</th>\n",
       "      <th>EFFECTIVE_YR</th>\n",
       "      <th>INSR_TYPE</th>\n",
       "      <th>INSURED_VALUE</th>\n",
       "      <th>PREMIUM</th>\n",
       "      <th>OBJECT_ID</th>\n",
       "      <th>PROD_YEAR</th>\n",
       "      <th>SEATS_NUM</th>\n",
       "      <th>CARRYING_CAPACITY</th>\n",
       "      <th>TYPE_VEHICLE</th>\n",
       "      <th>CCM_TON</th>\n",
       "      <th>MAKE</th>\n",
       "      <th>USAGE</th>\n",
       "      <th>CLAIM_PAID</th>\n",
       "    </tr>\n",
       "  </thead>\n",
       "  <tbody>\n",
       "    <tr>\n",
       "      <th>0</th>\n",
       "      <td>0</td>\n",
       "      <td>08-Aug-17</td>\n",
       "      <td>07-Aug-18</td>\n",
       "      <td>8</td>\n",
       "      <td>1202</td>\n",
       "      <td>519755.22</td>\n",
       "      <td>5097.83</td>\n",
       "      <td>5000029885</td>\n",
       "      <td>2007.0</td>\n",
       "      <td>4.0</td>\n",
       "      <td>6.0</td>\n",
       "      <td>Pick-up</td>\n",
       "      <td>3153.0</td>\n",
       "      <td>NISSAN</td>\n",
       "      <td>Own Goods</td>\n",
       "      <td>NaN</td>\n",
       "    </tr>\n",
       "    <tr>\n",
       "      <th>1</th>\n",
       "      <td>0</td>\n",
       "      <td>08-Aug-16</td>\n",
       "      <td>07-Aug-17</td>\n",
       "      <td>8</td>\n",
       "      <td>1202</td>\n",
       "      <td>519755.22</td>\n",
       "      <td>6556.52</td>\n",
       "      <td>5000029885</td>\n",
       "      <td>2007.0</td>\n",
       "      <td>4.0</td>\n",
       "      <td>6.0</td>\n",
       "      <td>Pick-up</td>\n",
       "      <td>3153.0</td>\n",
       "      <td>NISSAN</td>\n",
       "      <td>Own Goods</td>\n",
       "      <td>NaN</td>\n",
       "    </tr>\n",
       "    <tr>\n",
       "      <th>2</th>\n",
       "      <td>0</td>\n",
       "      <td>08-Aug-15</td>\n",
       "      <td>07-Aug-16</td>\n",
       "      <td>8</td>\n",
       "      <td>1202</td>\n",
       "      <td>519755.22</td>\n",
       "      <td>6556.52</td>\n",
       "      <td>5000029885</td>\n",
       "      <td>2007.0</td>\n",
       "      <td>4.0</td>\n",
       "      <td>6.0</td>\n",
       "      <td>Pick-up</td>\n",
       "      <td>3153.0</td>\n",
       "      <td>NISSAN</td>\n",
       "      <td>Own Goods</td>\n",
       "      <td>NaN</td>\n",
       "    </tr>\n",
       "    <tr>\n",
       "      <th>3</th>\n",
       "      <td>0</td>\n",
       "      <td>08-Aug-14</td>\n",
       "      <td>07-Aug-15</td>\n",
       "      <td>8</td>\n",
       "      <td>1202</td>\n",
       "      <td>519755.22</td>\n",
       "      <td>5102.83</td>\n",
       "      <td>5000029885</td>\n",
       "      <td>2007.0</td>\n",
       "      <td>4.0</td>\n",
       "      <td>6.0</td>\n",
       "      <td>Pick-up</td>\n",
       "      <td>3153.0</td>\n",
       "      <td>NISSAN</td>\n",
       "      <td>Own Goods</td>\n",
       "      <td>NaN</td>\n",
       "    </tr>\n",
       "    <tr>\n",
       "      <th>4</th>\n",
       "      <td>0</td>\n",
       "      <td>08-Aug-17</td>\n",
       "      <td>07-Aug-18</td>\n",
       "      <td>8</td>\n",
       "      <td>1202</td>\n",
       "      <td>1400000.00</td>\n",
       "      <td>13304.87</td>\n",
       "      <td>5000029901</td>\n",
       "      <td>2010.0</td>\n",
       "      <td>4.0</td>\n",
       "      <td>7.0</td>\n",
       "      <td>Pick-up</td>\n",
       "      <td>2494.0</td>\n",
       "      <td>TOYOTA</td>\n",
       "      <td>Own Goods</td>\n",
       "      <td>NaN</td>\n",
       "    </tr>\n",
       "    <tr>\n",
       "      <th>...</th>\n",
       "      <td>...</td>\n",
       "      <td>...</td>\n",
       "      <td>...</td>\n",
       "      <td>...</td>\n",
       "      <td>...</td>\n",
       "      <td>...</td>\n",
       "      <td>...</td>\n",
       "      <td>...</td>\n",
       "      <td>...</td>\n",
       "      <td>...</td>\n",
       "      <td>...</td>\n",
       "      <td>...</td>\n",
       "      <td>...</td>\n",
       "      <td>...</td>\n",
       "      <td>...</td>\n",
       "      <td>...</td>\n",
       "    </tr>\n",
       "    <tr>\n",
       "      <th>508494</th>\n",
       "      <td>0</td>\n",
       "      <td>02-Feb-18</td>\n",
       "      <td>01-Feb-19</td>\n",
       "      <td>12</td>\n",
       "      <td>1202</td>\n",
       "      <td>0.00</td>\n",
       "      <td>294.51</td>\n",
       "      <td>5001350484</td>\n",
       "      <td>2018.0</td>\n",
       "      <td>4.0</td>\n",
       "      <td>7.0</td>\n",
       "      <td>Pick-up</td>\n",
       "      <td>2400.0</td>\n",
       "      <td>TOYOTA</td>\n",
       "      <td>Own Goods</td>\n",
       "      <td>NaN</td>\n",
       "    </tr>\n",
       "    <tr>\n",
       "      <th>508495</th>\n",
       "      <td>0</td>\n",
       "      <td>02-Feb-18</td>\n",
       "      <td>01-Feb-19</td>\n",
       "      <td>12</td>\n",
       "      <td>1202</td>\n",
       "      <td>0.00</td>\n",
       "      <td>299.51</td>\n",
       "      <td>5001350489</td>\n",
       "      <td>2018.0</td>\n",
       "      <td>4.0</td>\n",
       "      <td>7.0</td>\n",
       "      <td>Pick-up</td>\n",
       "      <td>2400.0</td>\n",
       "      <td>TOYOTA</td>\n",
       "      <td>Own Goods</td>\n",
       "      <td>NaN</td>\n",
       "    </tr>\n",
       "    <tr>\n",
       "      <th>508496</th>\n",
       "      <td>0</td>\n",
       "      <td>02-Feb-18</td>\n",
       "      <td>01-Feb-19</td>\n",
       "      <td>12</td>\n",
       "      <td>1202</td>\n",
       "      <td>0.00</td>\n",
       "      <td>294.51</td>\n",
       "      <td>5001350498</td>\n",
       "      <td>2018.0</td>\n",
       "      <td>4.0</td>\n",
       "      <td>7.0</td>\n",
       "      <td>Pick-up</td>\n",
       "      <td>2400.0</td>\n",
       "      <td>TOYOTA</td>\n",
       "      <td>Own Goods</td>\n",
       "      <td>NaN</td>\n",
       "    </tr>\n",
       "    <tr>\n",
       "      <th>508497</th>\n",
       "      <td>0</td>\n",
       "      <td>02-Feb-18</td>\n",
       "      <td>01-Feb-19</td>\n",
       "      <td>12</td>\n",
       "      <td>1202</td>\n",
       "      <td>0.00</td>\n",
       "      <td>294.51</td>\n",
       "      <td>5001350502</td>\n",
       "      <td>2018.0</td>\n",
       "      <td>4.0</td>\n",
       "      <td>7.0</td>\n",
       "      <td>Pick-up</td>\n",
       "      <td>2400.0</td>\n",
       "      <td>TOYOTA</td>\n",
       "      <td>Own Goods</td>\n",
       "      <td>NaN</td>\n",
       "    </tr>\n",
       "    <tr>\n",
       "      <th>508498</th>\n",
       "      <td>0</td>\n",
       "      <td>02-Feb-18</td>\n",
       "      <td>01-Feb-19</td>\n",
       "      <td>12</td>\n",
       "      <td>1202</td>\n",
       "      <td>0.00</td>\n",
       "      <td>294.51</td>\n",
       "      <td>5001350505</td>\n",
       "      <td>2018.0</td>\n",
       "      <td>4.0</td>\n",
       "      <td>7.0</td>\n",
       "      <td>Pick-up</td>\n",
       "      <td>2400.0</td>\n",
       "      <td>TOYOTA</td>\n",
       "      <td>Own Goods</td>\n",
       "      <td>NaN</td>\n",
       "    </tr>\n",
       "  </tbody>\n",
       "</table>\n",
       "<p>508499 rows × 16 columns</p>\n",
       "</div>"
      ],
      "text/plain": [
       "        SEX INSR_BEGIN   INSR_END EFFECTIVE_YR  INSR_TYPE  INSURED_VALUE  \\\n",
       "0         0  08-Aug-17  07-Aug-18            8       1202      519755.22   \n",
       "1         0  08-Aug-16  07-Aug-17            8       1202      519755.22   \n",
       "2         0  08-Aug-15  07-Aug-16            8       1202      519755.22   \n",
       "3         0  08-Aug-14  07-Aug-15            8       1202      519755.22   \n",
       "4         0  08-Aug-17  07-Aug-18            8       1202     1400000.00   \n",
       "...     ...        ...        ...          ...        ...            ...   \n",
       "508494    0  02-Feb-18  01-Feb-19           12       1202           0.00   \n",
       "508495    0  02-Feb-18  01-Feb-19           12       1202           0.00   \n",
       "508496    0  02-Feb-18  01-Feb-19           12       1202           0.00   \n",
       "508497    0  02-Feb-18  01-Feb-19           12       1202           0.00   \n",
       "508498    0  02-Feb-18  01-Feb-19           12       1202           0.00   \n",
       "\n",
       "         PREMIUM   OBJECT_ID  PROD_YEAR  SEATS_NUM  CARRYING_CAPACITY  \\\n",
       "0        5097.83  5000029885     2007.0        4.0                6.0   \n",
       "1        6556.52  5000029885     2007.0        4.0                6.0   \n",
       "2        6556.52  5000029885     2007.0        4.0                6.0   \n",
       "3        5102.83  5000029885     2007.0        4.0                6.0   \n",
       "4       13304.87  5000029901     2010.0        4.0                7.0   \n",
       "...          ...         ...        ...        ...                ...   \n",
       "508494    294.51  5001350484     2018.0        4.0                7.0   \n",
       "508495    299.51  5001350489     2018.0        4.0                7.0   \n",
       "508496    294.51  5001350498     2018.0        4.0                7.0   \n",
       "508497    294.51  5001350502     2018.0        4.0                7.0   \n",
       "508498    294.51  5001350505     2018.0        4.0                7.0   \n",
       "\n",
       "       TYPE_VEHICLE  CCM_TON    MAKE      USAGE  CLAIM_PAID  \n",
       "0           Pick-up   3153.0  NISSAN  Own Goods         NaN  \n",
       "1           Pick-up   3153.0  NISSAN  Own Goods         NaN  \n",
       "2           Pick-up   3153.0  NISSAN  Own Goods         NaN  \n",
       "3           Pick-up   3153.0  NISSAN  Own Goods         NaN  \n",
       "4           Pick-up   2494.0  TOYOTA  Own Goods         NaN  \n",
       "...             ...      ...     ...        ...         ...  \n",
       "508494      Pick-up   2400.0  TOYOTA  Own Goods         NaN  \n",
       "508495      Pick-up   2400.0  TOYOTA  Own Goods         NaN  \n",
       "508496      Pick-up   2400.0  TOYOTA  Own Goods         NaN  \n",
       "508497      Pick-up   2400.0  TOYOTA  Own Goods         NaN  \n",
       "508498      Pick-up   2400.0  TOYOTA  Own Goods         NaN  \n",
       "\n",
       "[508499 rows x 16 columns]"
      ]
     },
     "execution_count": 2,
     "metadata": {},
     "output_type": "execute_result"
    }
   ],
   "source": [
    "#import dataset\n",
    "\n",
    "motor_data=pd.read_csv(\"C:/Users/user/Desktop/Data Science/ML Project - Vehicle Insurance Data/motor_data14-2018.csv\")\n",
    "motor_data"
   ]
  },
  {
   "cell_type": "code",
   "execution_count": 3,
   "id": "ea4815c7",
   "metadata": {},
   "outputs": [
    {
     "data": {
      "text/html": [
       "<div>\n",
       "<style scoped>\n",
       "    .dataframe tbody tr th:only-of-type {\n",
       "        vertical-align: middle;\n",
       "    }\n",
       "\n",
       "    .dataframe tbody tr th {\n",
       "        vertical-align: top;\n",
       "    }\n",
       "\n",
       "    .dataframe thead th {\n",
       "        text-align: right;\n",
       "    }\n",
       "</style>\n",
       "<table border=\"1\" class=\"dataframe\">\n",
       "  <thead>\n",
       "    <tr style=\"text-align: right;\">\n",
       "      <th></th>\n",
       "      <th>SEX</th>\n",
       "      <th>INSR_BEGIN</th>\n",
       "      <th>INSR_END</th>\n",
       "      <th>EFFECTIVE_YR</th>\n",
       "      <th>INSR_TYPE</th>\n",
       "      <th>INSURED_VALUE</th>\n",
       "      <th>PREMIUM</th>\n",
       "      <th>OBJECT_ID</th>\n",
       "      <th>PROD_YEAR</th>\n",
       "      <th>SEATS_NUM</th>\n",
       "      <th>CARRYING_CAPACITY</th>\n",
       "      <th>TYPE_VEHICLE</th>\n",
       "      <th>CCM_TON</th>\n",
       "      <th>MAKE</th>\n",
       "      <th>USAGE</th>\n",
       "      <th>CLAIM_PAID</th>\n",
       "    </tr>\n",
       "  </thead>\n",
       "  <tbody>\n",
       "    <tr>\n",
       "      <th>0</th>\n",
       "      <td>0</td>\n",
       "      <td>08-Aug-17</td>\n",
       "      <td>07-Aug-18</td>\n",
       "      <td>8</td>\n",
       "      <td>1202</td>\n",
       "      <td>519755.22</td>\n",
       "      <td>5097.83</td>\n",
       "      <td>5000029885</td>\n",
       "      <td>2007.0</td>\n",
       "      <td>4.0</td>\n",
       "      <td>6.0</td>\n",
       "      <td>Pick-up</td>\n",
       "      <td>3153.0</td>\n",
       "      <td>NISSAN</td>\n",
       "      <td>Own Goods</td>\n",
       "      <td>NaN</td>\n",
       "    </tr>\n",
       "    <tr>\n",
       "      <th>1</th>\n",
       "      <td>0</td>\n",
       "      <td>08-Aug-16</td>\n",
       "      <td>07-Aug-17</td>\n",
       "      <td>8</td>\n",
       "      <td>1202</td>\n",
       "      <td>519755.22</td>\n",
       "      <td>6556.52</td>\n",
       "      <td>5000029885</td>\n",
       "      <td>2007.0</td>\n",
       "      <td>4.0</td>\n",
       "      <td>6.0</td>\n",
       "      <td>Pick-up</td>\n",
       "      <td>3153.0</td>\n",
       "      <td>NISSAN</td>\n",
       "      <td>Own Goods</td>\n",
       "      <td>NaN</td>\n",
       "    </tr>\n",
       "    <tr>\n",
       "      <th>2</th>\n",
       "      <td>0</td>\n",
       "      <td>08-Aug-15</td>\n",
       "      <td>07-Aug-16</td>\n",
       "      <td>8</td>\n",
       "      <td>1202</td>\n",
       "      <td>519755.22</td>\n",
       "      <td>6556.52</td>\n",
       "      <td>5000029885</td>\n",
       "      <td>2007.0</td>\n",
       "      <td>4.0</td>\n",
       "      <td>6.0</td>\n",
       "      <td>Pick-up</td>\n",
       "      <td>3153.0</td>\n",
       "      <td>NISSAN</td>\n",
       "      <td>Own Goods</td>\n",
       "      <td>NaN</td>\n",
       "    </tr>\n",
       "    <tr>\n",
       "      <th>3</th>\n",
       "      <td>0</td>\n",
       "      <td>08-Aug-14</td>\n",
       "      <td>07-Aug-15</td>\n",
       "      <td>8</td>\n",
       "      <td>1202</td>\n",
       "      <td>519755.22</td>\n",
       "      <td>5102.83</td>\n",
       "      <td>5000029885</td>\n",
       "      <td>2007.0</td>\n",
       "      <td>4.0</td>\n",
       "      <td>6.0</td>\n",
       "      <td>Pick-up</td>\n",
       "      <td>3153.0</td>\n",
       "      <td>NISSAN</td>\n",
       "      <td>Own Goods</td>\n",
       "      <td>NaN</td>\n",
       "    </tr>\n",
       "    <tr>\n",
       "      <th>4</th>\n",
       "      <td>0</td>\n",
       "      <td>08-Aug-17</td>\n",
       "      <td>07-Aug-18</td>\n",
       "      <td>8</td>\n",
       "      <td>1202</td>\n",
       "      <td>1400000.00</td>\n",
       "      <td>13304.87</td>\n",
       "      <td>5000029901</td>\n",
       "      <td>2010.0</td>\n",
       "      <td>4.0</td>\n",
       "      <td>7.0</td>\n",
       "      <td>Pick-up</td>\n",
       "      <td>2494.0</td>\n",
       "      <td>TOYOTA</td>\n",
       "      <td>Own Goods</td>\n",
       "      <td>NaN</td>\n",
       "    </tr>\n",
       "  </tbody>\n",
       "</table>\n",
       "</div>"
      ],
      "text/plain": [
       "   SEX INSR_BEGIN   INSR_END EFFECTIVE_YR  INSR_TYPE  INSURED_VALUE   PREMIUM  \\\n",
       "0    0  08-Aug-17  07-Aug-18            8       1202      519755.22   5097.83   \n",
       "1    0  08-Aug-16  07-Aug-17            8       1202      519755.22   6556.52   \n",
       "2    0  08-Aug-15  07-Aug-16            8       1202      519755.22   6556.52   \n",
       "3    0  08-Aug-14  07-Aug-15            8       1202      519755.22   5102.83   \n",
       "4    0  08-Aug-17  07-Aug-18            8       1202     1400000.00  13304.87   \n",
       "\n",
       "    OBJECT_ID  PROD_YEAR  SEATS_NUM  CARRYING_CAPACITY TYPE_VEHICLE  CCM_TON  \\\n",
       "0  5000029885     2007.0        4.0                6.0      Pick-up   3153.0   \n",
       "1  5000029885     2007.0        4.0                6.0      Pick-up   3153.0   \n",
       "2  5000029885     2007.0        4.0                6.0      Pick-up   3153.0   \n",
       "3  5000029885     2007.0        4.0                6.0      Pick-up   3153.0   \n",
       "4  5000029901     2010.0        4.0                7.0      Pick-up   2494.0   \n",
       "\n",
       "     MAKE      USAGE  CLAIM_PAID  \n",
       "0  NISSAN  Own Goods         NaN  \n",
       "1  NISSAN  Own Goods         NaN  \n",
       "2  NISSAN  Own Goods         NaN  \n",
       "3  NISSAN  Own Goods         NaN  \n",
       "4  TOYOTA  Own Goods         NaN  "
      ]
     },
     "execution_count": 3,
     "metadata": {},
     "output_type": "execute_result"
    }
   ],
   "source": [
    "#check the top 5 rows of the dataset\n",
    "motor_data.head()"
   ]
  },
  {
   "cell_type": "code",
   "execution_count": 4,
   "id": "11d83cb2",
   "metadata": {},
   "outputs": [
    {
     "name": "stdout",
     "output_type": "stream",
     "text": [
      "<class 'pandas.core.frame.DataFrame'>\n",
      "RangeIndex: 508499 entries, 0 to 508498\n",
      "Data columns (total 16 columns):\n",
      " #   Column             Non-Null Count   Dtype  \n",
      "---  ------             --------------   -----  \n",
      " 0   SEX                508499 non-null  int64  \n",
      " 1   INSR_BEGIN         508499 non-null  object \n",
      " 2   INSR_END           508499 non-null  object \n",
      " 3   EFFECTIVE_YR       508496 non-null  object \n",
      " 4   INSR_TYPE          508499 non-null  int64  \n",
      " 5   INSURED_VALUE      508499 non-null  float64\n",
      " 6   PREMIUM            508486 non-null  float64\n",
      " 7   OBJECT_ID          508499 non-null  int64  \n",
      " 8   PROD_YEAR          508436 non-null  float64\n",
      " 9   SEATS_NUM          508404 non-null  float64\n",
      " 10  CARRYING_CAPACITY  391665 non-null  float64\n",
      " 11  TYPE_VEHICLE       508499 non-null  object \n",
      " 12  CCM_TON            508493 non-null  float64\n",
      " 13  MAKE               508494 non-null  object \n",
      " 14  USAGE              508499 non-null  object \n",
      " 15  CLAIM_PAID         37772 non-null   float64\n",
      "dtypes: float64(7), int64(3), object(6)\n",
      "memory usage: 62.1+ MB\n"
     ]
    }
   ],
   "source": [
    "motor_data.info()"
   ]
  },
  {
   "cell_type": "markdown",
   "id": "882c96a4",
   "metadata": {},
   "source": [
    "The data has 16 columns:"
   ]
  },
  {
   "cell_type": "code",
   "execution_count": 5,
   "id": "84528311",
   "metadata": {},
   "outputs": [
    {
     "data": {
      "text/html": [
       "<div>\n",
       "<style scoped>\n",
       "    .dataframe tbody tr th:only-of-type {\n",
       "        vertical-align: middle;\n",
       "    }\n",
       "\n",
       "    .dataframe tbody tr th {\n",
       "        vertical-align: top;\n",
       "    }\n",
       "\n",
       "    .dataframe thead th {\n",
       "        text-align: right;\n",
       "    }\n",
       "</style>\n",
       "<table border=\"1\" class=\"dataframe\">\n",
       "  <thead>\n",
       "    <tr style=\"text-align: right;\">\n",
       "      <th></th>\n",
       "      <th>SEX</th>\n",
       "      <th>INSR_TYPE</th>\n",
       "      <th>INSURED_VALUE</th>\n",
       "      <th>PREMIUM</th>\n",
       "      <th>OBJECT_ID</th>\n",
       "      <th>PROD_YEAR</th>\n",
       "      <th>SEATS_NUM</th>\n",
       "      <th>CARRYING_CAPACITY</th>\n",
       "      <th>CCM_TON</th>\n",
       "      <th>CLAIM_PAID</th>\n",
       "    </tr>\n",
       "  </thead>\n",
       "  <tbody>\n",
       "    <tr>\n",
       "      <th>count</th>\n",
       "      <td>508499.000000</td>\n",
       "      <td>508499.000000</td>\n",
       "      <td>5.084990e+05</td>\n",
       "      <td>5.084860e+05</td>\n",
       "      <td>5.084990e+05</td>\n",
       "      <td>508436.000000</td>\n",
       "      <td>508404.000000</td>\n",
       "      <td>391665.000000</td>\n",
       "      <td>508493.000000</td>\n",
       "      <td>3.777200e+04</td>\n",
       "    </tr>\n",
       "    <tr>\n",
       "      <th>mean</th>\n",
       "      <td>0.599960</td>\n",
       "      <td>1201.758202</td>\n",
       "      <td>5.636926e+05</td>\n",
       "      <td>7.944377e+03</td>\n",
       "      <td>5.000578e+09</td>\n",
       "      <td>2006.345605</td>\n",
       "      <td>6.100263</td>\n",
       "      <td>416.533046</td>\n",
       "      <td>3096.946432</td>\n",
       "      <td>2.430579e+05</td>\n",
       "    </tr>\n",
       "    <tr>\n",
       "      <th>std</th>\n",
       "      <td>0.641585</td>\n",
       "      <td>0.430509</td>\n",
       "      <td>9.336250e+05</td>\n",
       "      <td>1.550939e+04</td>\n",
       "      <td>3.579549e+05</td>\n",
       "      <td>9.732890</td>\n",
       "      <td>13.605758</td>\n",
       "      <td>3206.744093</td>\n",
       "      <td>3411.724525</td>\n",
       "      <td>1.081931e+06</td>\n",
       "    </tr>\n",
       "    <tr>\n",
       "      <th>min</th>\n",
       "      <td>0.000000</td>\n",
       "      <td>1201.000000</td>\n",
       "      <td>0.000000e+00</td>\n",
       "      <td>0.000000e+00</td>\n",
       "      <td>5.000018e+09</td>\n",
       "      <td>1950.000000</td>\n",
       "      <td>0.000000</td>\n",
       "      <td>0.000000</td>\n",
       "      <td>0.000000</td>\n",
       "      <td>0.000000e+00</td>\n",
       "    </tr>\n",
       "    <tr>\n",
       "      <th>25%</th>\n",
       "      <td>0.000000</td>\n",
       "      <td>1202.000000</td>\n",
       "      <td>0.000000e+00</td>\n",
       "      <td>6.670000e+02</td>\n",
       "      <td>5.000227e+09</td>\n",
       "      <td>2002.000000</td>\n",
       "      <td>1.000000</td>\n",
       "      <td>0.000000</td>\n",
       "      <td>200.000000</td>\n",
       "      <td>1.485008e+04</td>\n",
       "    </tr>\n",
       "    <tr>\n",
       "      <th>50%</th>\n",
       "      <td>1.000000</td>\n",
       "      <td>1202.000000</td>\n",
       "      <td>1.500000e+05</td>\n",
       "      <td>3.450300e+03</td>\n",
       "      <td>5.000627e+09</td>\n",
       "      <td>2010.000000</td>\n",
       "      <td>3.000000</td>\n",
       "      <td>5.500000</td>\n",
       "      <td>2494.000000</td>\n",
       "      <td>3.678178e+04</td>\n",
       "    </tr>\n",
       "    <tr>\n",
       "      <th>75%</th>\n",
       "      <td>1.000000</td>\n",
       "      <td>1202.000000</td>\n",
       "      <td>8.500000e+05</td>\n",
       "      <td>1.056300e+04</td>\n",
       "      <td>5.000863e+09</td>\n",
       "      <td>2014.000000</td>\n",
       "      <td>4.000000</td>\n",
       "      <td>20.000000</td>\n",
       "      <td>4164.000000</td>\n",
       "      <td>1.353163e+05</td>\n",
       "    </tr>\n",
       "    <tr>\n",
       "      <th>max</th>\n",
       "      <td>2.000000</td>\n",
       "      <td>1204.000000</td>\n",
       "      <td>6.782439e+07</td>\n",
       "      <td>7.581230e+06</td>\n",
       "      <td>5.001351e+09</td>\n",
       "      <td>2018.000000</td>\n",
       "      <td>198.000000</td>\n",
       "      <td>224000.000000</td>\n",
       "      <td>20000.000000</td>\n",
       "      <td>7.924714e+07</td>\n",
       "    </tr>\n",
       "  </tbody>\n",
       "</table>\n",
       "</div>"
      ],
      "text/plain": [
       "                 SEX      INSR_TYPE  INSURED_VALUE       PREMIUM  \\\n",
       "count  508499.000000  508499.000000   5.084990e+05  5.084860e+05   \n",
       "mean        0.599960    1201.758202   5.636926e+05  7.944377e+03   \n",
       "std         0.641585       0.430509   9.336250e+05  1.550939e+04   \n",
       "min         0.000000    1201.000000   0.000000e+00  0.000000e+00   \n",
       "25%         0.000000    1202.000000   0.000000e+00  6.670000e+02   \n",
       "50%         1.000000    1202.000000   1.500000e+05  3.450300e+03   \n",
       "75%         1.000000    1202.000000   8.500000e+05  1.056300e+04   \n",
       "max         2.000000    1204.000000   6.782439e+07  7.581230e+06   \n",
       "\n",
       "          OBJECT_ID      PROD_YEAR      SEATS_NUM  CARRYING_CAPACITY  \\\n",
       "count  5.084990e+05  508436.000000  508404.000000      391665.000000   \n",
       "mean   5.000578e+09    2006.345605       6.100263         416.533046   \n",
       "std    3.579549e+05       9.732890      13.605758        3206.744093   \n",
       "min    5.000018e+09    1950.000000       0.000000           0.000000   \n",
       "25%    5.000227e+09    2002.000000       1.000000           0.000000   \n",
       "50%    5.000627e+09    2010.000000       3.000000           5.500000   \n",
       "75%    5.000863e+09    2014.000000       4.000000          20.000000   \n",
       "max    5.001351e+09    2018.000000     198.000000      224000.000000   \n",
       "\n",
       "             CCM_TON    CLAIM_PAID  \n",
       "count  508493.000000  3.777200e+04  \n",
       "mean     3096.946432  2.430579e+05  \n",
       "std      3411.724525  1.081931e+06  \n",
       "min         0.000000  0.000000e+00  \n",
       "25%       200.000000  1.485008e+04  \n",
       "50%      2494.000000  3.678178e+04  \n",
       "75%      4164.000000  1.353163e+05  \n",
       "max     20000.000000  7.924714e+07  "
      ]
     },
     "execution_count": 5,
     "metadata": {},
     "output_type": "execute_result"
    }
   ],
   "source": [
    "motor_data.describe()"
   ]
  },
  {
   "cell_type": "markdown",
   "id": "6b09c36d",
   "metadata": {},
   "source": [
    "Check missing values in your data"
   ]
  },
  {
   "cell_type": "code",
   "execution_count": 7,
   "id": "1592115e",
   "metadata": {},
   "outputs": [
    {
     "data": {
      "text/plain": [
       "SEX                   0.000000\n",
       "INSR_BEGIN            0.000000\n",
       "INSR_END              0.000000\n",
       "EFFECTIVE_YR          0.000590\n",
       "INSR_TYPE             0.000000\n",
       "INSURED_VALUE         0.000000\n",
       "PREMIUM               0.002557\n",
       "OBJECT_ID             0.000000\n",
       "PROD_YEAR             0.012389\n",
       "SEATS_NUM             0.018682\n",
       "CARRYING_CAPACITY    22.976250\n",
       "TYPE_VEHICLE          0.000000\n",
       "CCM_TON               0.001180\n",
       "MAKE                  0.000983\n",
       "USAGE                 0.000000\n",
       "CLAIM_PAID           92.571863\n",
       "dtype: float64"
      ]
     },
     "execution_count": 7,
     "metadata": {},
     "output_type": "execute_result"
    }
   ],
   "source": [
    "percentage_missing = motor_data.isnull().sum() / motor_data.shape[0] * 100\n",
    "percentage_missing"
   ]
  },
  {
   "cell_type": "code",
   "execution_count": 8,
   "id": "3c8f6a3a",
   "metadata": {},
   "outputs": [
    {
     "data": {
      "text/plain": [
       "78"
      ]
     },
     "execution_count": 8,
     "metadata": {},
     "output_type": "execute_result"
    }
   ],
   "source": [
    "#Check for duplicates\n",
    "motor_data.duplicated().sum()"
   ]
  },
  {
   "cell_type": "markdown",
   "id": "34bd7baf",
   "metadata": {},
   "source": [
    "The motor_data dataset has 78 duplicates therefore we drop them and overwrite the existing dataframe I am using. "
   ]
  },
  {
   "cell_type": "code",
   "execution_count": 9,
   "id": "fe3563ef",
   "metadata": {},
   "outputs": [],
   "source": [
    "motor_data.drop_duplicates(inplace=True)"
   ]
  },
  {
   "cell_type": "code",
   "execution_count": 10,
   "id": "ce7a5357",
   "metadata": {},
   "outputs": [
    {
     "data": {
      "text/plain": [
       "0"
      ]
     },
     "execution_count": 10,
     "metadata": {},
     "output_type": "execute_result"
    }
   ],
   "source": [
    "#check if dropped\n",
    "motor_data.duplicated().sum()"
   ]
  },
  {
   "cell_type": "markdown",
   "id": "4e033cc6",
   "metadata": {},
   "source": [
    "Explanatory Data Analysis"
   ]
  },
  {
   "cell_type": "code",
   "execution_count": 11,
   "id": "dc9b53fe",
   "metadata": {},
   "outputs": [
    {
     "data": {
      "text/plain": [
       "SEX                       3\n",
       "INSR_BEGIN             1461\n",
       "INSR_END               1691\n",
       "EFFECTIVE_YR            139\n",
       "INSR_TYPE                 3\n",
       "INSURED_VALUE         12084\n",
       "PREMIUM              164136\n",
       "OBJECT_ID            223136\n",
       "PROD_YEAR                68\n",
       "SEATS_NUM                91\n",
       "CARRYING_CAPACITY      2249\n",
       "TYPE_VEHICLE             11\n",
       "CCM_TON                3264\n",
       "MAKE                    746\n",
       "USAGE                    14\n",
       "CLAIM_PAID            28350\n",
       "dtype: int64"
      ]
     },
     "execution_count": 11,
     "metadata": {},
     "output_type": "execute_result"
    }
   ],
   "source": [
    "# find the number of unique values in each column - the distict values will help us understand the disitibution of data ata hand.\n",
    "motor_data.nunique()"
   ]
  },
  {
   "cell_type": "code",
   "execution_count": 12,
   "id": "dd3d2826",
   "metadata": {},
   "outputs": [],
   "source": [
    "#delete CLAIM_PAID column since it has 92.6% of missing values \n",
    "\n",
    "motor_data.drop('CLAIM_PAID', axis = 1, inplace = True)"
   ]
  },
  {
   "cell_type": "code",
   "execution_count": 13,
   "id": "66818204",
   "metadata": {},
   "outputs": [
    {
     "data": {
      "text/plain": [
       "SEX                   0.000000\n",
       "INSR_BEGIN            0.000000\n",
       "INSR_END              0.000000\n",
       "EFFECTIVE_YR          0.000590\n",
       "INSR_TYPE             0.000000\n",
       "INSURED_VALUE         0.000000\n",
       "PREMIUM               0.002557\n",
       "OBJECT_ID             0.000000\n",
       "PROD_YEAR             0.012391\n",
       "SEATS_NUM             0.018685\n",
       "CARRYING_CAPACITY    22.977611\n",
       "TYPE_VEHICLE          0.000000\n",
       "CCM_TON               0.001180\n",
       "MAKE                  0.000983\n",
       "USAGE                 0.000000\n",
       "dtype: float64"
      ]
     },
     "execution_count": 13,
     "metadata": {},
     "output_type": "execute_result"
    }
   ],
   "source": [
    "percentage_missing = motor_data.isnull().sum() / motor_data.shape[0] * 100\n",
    "percentage_missing"
   ]
  },
  {
   "cell_type": "code",
   "execution_count": 14,
   "id": "9a9883fe",
   "metadata": {},
   "outputs": [],
   "source": [
    "# create a function to plot a countplot and a box plot for each categorical column\n",
    "\n",
    "def plot_categoricals(data, column):\n",
    "    sns.barplot(x = column, y = 'PREMIUM', data = motor_data)\n",
    "    plt.xticks(rotation = 90)\n",
    "    plt.show()"
   ]
  },
  {
   "cell_type": "code",
   "execution_count": 15,
   "id": "33720cb2",
   "metadata": {},
   "outputs": [
    {
     "data": {
      "text/plain": [
       "Index(['INSR_BEGIN', 'INSR_END', 'EFFECTIVE_YR', 'TYPE_VEHICLE', 'MAKE',\n",
       "       'USAGE'],\n",
       "      dtype='object')"
      ]
     },
     "execution_count": 15,
     "metadata": {},
     "output_type": "execute_result"
    }
   ],
   "source": [
    "cat_col = motor_data.select_dtypes(include = 'object').columns\n",
    "cat_col"
   ]
  },
  {
   "cell_type": "code",
   "execution_count": 16,
   "id": "59996833",
   "metadata": {},
   "outputs": [
    {
     "data": {
      "image/png": "[encoded data removed]",
      "text/plain": [
       "<Figure size 640x480 with 1 Axes>"
      ]
     },
     "metadata": {},
     "output_type": "display_data"
    }
   ],
   "source": [
    "# plot the categorical columns\n",
    "plot_categoricals(motor_data, 'TYPE_VEHICLE')"
   ]
  },
  {
   "cell_type": "markdown",
   "id": "6b1907fb",
   "metadata": {},
   "source": [
    "The bar chart illustrates premiums ranging from 0 to 17,500 of various types of vehicles: Pickup, Truck, Bus, Automobiles, Motorcycle, Trailers and semitrailers, Station wagons/Vans/Other maker special vehicles, and Trade plates. The chart shows that tankers and trucks has higher insurance premiums, while smaller vehicles (automobiles, trade plates motorcycles) have lower premiums. "
   ]
  },
  {
   "cell_type": "code",
   "execution_count": 17,
   "id": "b180de7d",
   "metadata": {},
   "outputs": [
    {
     "data": {
      "image/png": "[encoded data removed]",
      "text/plain": [
       "<Figure size 640x480 with 1 Axes>"
      ]
     },
     "metadata": {},
     "output_type": "display_data"
    }
   ],
   "source": [
    "# plot the categorical columns\n",
    "plot_categoricals(motor_data, 'USAGE')"
   ]
  },
  {
   "cell_type": "markdown",
   "id": "a1e16259",
   "metadata": {},
   "source": [
    "The bar chart provides a comparative view of insurance premiums based on vehicle use."
   ]
  },
  {
   "cell_type": "code",
   "execution_count": 18,
   "id": "465d2361",
   "metadata": {},
   "outputs": [],
   "source": [
    "def plot_numerical(data, column):\n",
    "    # create a histogram\n",
    "    sns.histplot(data = motor_data, x = column, kde = True)\n",
    "    plt.show()"
   ]
  },
  {
   "cell_type": "code",
   "execution_count": 19,
   "id": "fa644d37",
   "metadata": {},
   "outputs": [
    {
     "data": {
      "image/png": "[encoded data removed]",
      "text/plain": [
       "<Figure size 640x480 with 1 Axes>"
      ]
     },
     "metadata": {},
     "output_type": "display_data"
    }
   ],
   "source": [
    "plot_numerical(motor_data, 'INSR_TYPE')"
   ]
  },
  {
   "cell_type": "markdown",
   "id": "a9047be9",
   "metadata": {},
   "source": [
    "The two peaks in the chart hold significance: The larger peak represents a specific insurance type (1202.0)  with a high count approximately 700,000 occurrences. The smaller peak just before 1201.5 corresponds to another policy type, but with a lower count (slightly above 100,000 occurrences). Other policy types have minimal representation, suggesting they are less common.\n",
    "\n",
    "Implications:\n",
    "The skewed distribution indicates that most policyholders or data fall into the two dominant categories represented by the peaks. The rest of the data points are sparse, indicating that other INSR_TYPE values are infrequent.\n",
    "Policymakers and insurers may want to investigate why certain policy types are more popular or prevalent.\n"
   ]
  },
  {
   "cell_type": "markdown",
   "id": "7709c96c",
   "metadata": {},
   "source": [
    "Fill in Missing Values"
   ]
  },
  {
   "cell_type": "code",
   "execution_count": 20,
   "id": "0539cdf3",
   "metadata": {},
   "outputs": [],
   "source": [
    "## Create an automated script to fit and train ML models\n",
    "\n",
    "from sklearn.pipeline import Pipeline\n",
    "from sklearn.impute import SimpleImputer\n",
    "from sklearn.preprocessing import OrdinalEncoder\n",
    "\n",
    "\n",
    "\n",
    "def preprocess_data(motor_data):\n",
    "    # check for missing values and show columns with more 25% missing values\n",
    "    # get missing values as a percentage\n",
    "    missing_values = motor_data.isnull().mean() * 100\n",
    "    # drop columns with more than 25% missing values\n",
    "    data = motor_data.drop(columns=missing_values[missing_values > 25].index)\n",
    "    # impute the other missing values\n",
    "    # categorical columns\n",
    "    cat_cols = motor_data.select_dtypes(include='object').columns\n",
    "    # numerical columns\n",
    "    num_cols = motor_data.select_dtypes(exclude='object').columns\n",
    "    \n",
    "    from sklearn.preprocessing import StandardScaler \n",
    "    scaler = StandardScaler()\n",
    "    \n",
    "    # create a pipeline for numerical columns\n",
    "    numerical_pipeline = Pipeline(steps=[\n",
    "        ('imputer', SimpleImputer(strategy='mean'))\n",
    "    ])\n",
    "    \n",
    "    \n",
    "\n",
    "    # create a pipeline for categorical columns\n",
    "    cat_pipeline = Pipeline([\n",
    "        ('imputer', SimpleImputer(strategy = 'most_frequent')),\n",
    "        ('encoder', OrdinalEncoder())\n",
    "    ])\n",
    "\n",
    "    # create a column transformer\n",
    "    from sklearn.compose import ColumnTransformer\n",
    "    preprocessor = ColumnTransformer([\n",
    "        ('num', numerical_pipeline, num_cols),\n",
    "        ('cat', cat_pipeline, cat_cols)\n",
    "    ])\n",
    "    \n",
    "    # fit and transform the data\n",
    "    transformed_data = preprocessor.fit_transform(motor_data)\n",
    "    transformed_data = pd.DataFrame(transformed_data, columns = num_cols.tolist() + cat_cols.tolist())\n",
    "\n",
    "    return transformed_data"
   ]
  },
  {
   "cell_type": "code",
   "execution_count": 21,
   "id": "e6b994a7",
   "metadata": {},
   "outputs": [
    {
     "data": {
      "text/plain": [
       "SEX                  0.0\n",
       "INSR_TYPE            0.0\n",
       "INSURED_VALUE        0.0\n",
       "PREMIUM              0.0\n",
       "OBJECT_ID            0.0\n",
       "PROD_YEAR            0.0\n",
       "SEATS_NUM            0.0\n",
       "CARRYING_CAPACITY    0.0\n",
       "CCM_TON              0.0\n",
       "INSR_BEGIN           0.0\n",
       "INSR_END             0.0\n",
       "EFFECTIVE_YR         0.0\n",
       "TYPE_VEHICLE         0.0\n",
       "MAKE                 0.0\n",
       "USAGE                0.0\n",
       "dtype: float64"
      ]
     },
     "execution_count": 21,
     "metadata": {},
     "output_type": "execute_result"
    }
   ],
   "source": [
    "#confirm imputed data in the dataset\n",
    "motor_data = preprocess_data(motor_data)\n",
    "percentage_missing = motor_data.isnull().sum() / motor_data.shape[0] * 100\n",
    "percentage_missing"
   ]
  },
  {
   "cell_type": "code",
   "execution_count": 22,
   "id": "2ad6f061",
   "metadata": {},
   "outputs": [
    {
     "name": "stdout",
     "output_type": "stream",
     "text": [
      "<class 'pandas.core.frame.DataFrame'>\n",
      "RangeIndex: 508421 entries, 0 to 508420\n",
      "Data columns (total 15 columns):\n",
      " #   Column             Non-Null Count   Dtype  \n",
      "---  ------             --------------   -----  \n",
      " 0   SEX                508421 non-null  float64\n",
      " 1   INSR_TYPE          508421 non-null  float64\n",
      " 2   INSURED_VALUE      508421 non-null  float64\n",
      " 3   PREMIUM            508421 non-null  float64\n",
      " 4   OBJECT_ID          508421 non-null  float64\n",
      " 5   PROD_YEAR          508421 non-null  float64\n",
      " 6   SEATS_NUM          508421 non-null  float64\n",
      " 7   CARRYING_CAPACITY  508421 non-null  float64\n",
      " 8   CCM_TON            508421 non-null  float64\n",
      " 9   INSR_BEGIN         508421 non-null  float64\n",
      " 10  INSR_END           508421 non-null  float64\n",
      " 11  EFFECTIVE_YR       508421 non-null  float64\n",
      " 12  TYPE_VEHICLE       508421 non-null  float64\n",
      " 13  MAKE               508421 non-null  float64\n",
      " 14  USAGE              508421 non-null  float64\n",
      "dtypes: float64(15)\n",
      "memory usage: 58.2 MB\n"
     ]
    }
   ],
   "source": [
    "motor_data.info()"
   ]
  },
  {
   "cell_type": "markdown",
   "id": "061b4ac1",
   "metadata": {},
   "source": [
    "Fit Regression model "
   ]
  },
  {
   "cell_type": "code",
   "execution_count": 23,
   "id": "6f36e85e",
   "metadata": {},
   "outputs": [
    {
     "data": {
      "text/plain": [
       "<Axes: xlabel='PREMIUM', ylabel='Count'>"
      ]
     },
     "execution_count": 23,
     "metadata": {},
     "output_type": "execute_result"
    },
    {
     "data": {
      "image/png": "[encoded data removed]",
      "text/plain": [
       "<Figure size 640x480 with 1 Axes>"
      ]
     },
     "metadata": {},
     "output_type": "display_data"
    }
   ],
   "source": [
    "## check the distribution of the target variable -\n",
    "sns.histplot(data=motor_data, x='PREMIUM')"
   ]
  },
  {
   "cell_type": "code",
   "execution_count": 24,
   "id": "8615daa7",
   "metadata": {},
   "outputs": [],
   "source": [
    "#remove outliers \n",
    "\n",
    "def remove_outliers(column):\n",
    "    Q1 = column.quantile(0.25)\n",
    "    Q3 = column.quantile(0.75)\n",
    "    IQR = Q3-Q1\n",
    "    lower_bound =Q1 - 1.5*IQR\n",
    "    upper_bound =Q3 + 1.5*IQR\n",
    "    return column [(column > lower_bound) & (column < upper_bound)]\n",
    "\n",
    "motor_data['PREMIUM'] = remove_outliers(motor_data['PREMIUM'])"
   ]
  },
  {
   "cell_type": "code",
   "execution_count": 25,
   "id": "f733b7c9",
   "metadata": {},
   "outputs": [
    {
     "data": {
      "text/plain": [
       "<Axes: xlabel='PREMIUM', ylabel='Count'>"
      ]
     },
     "execution_count": 25,
     "metadata": {},
     "output_type": "execute_result"
    },
    {
     "data": {
      "image/png": "[encoded data removed]",
      "text/plain": [
       "<Figure size 640x480 with 1 Axes>"
      ]
     },
     "metadata": {},
     "output_type": "display_data"
    }
   ],
   "source": [
    "## check the distribution of the target variable -\n",
    "sns.histplot(data=motor_data, x='PREMIUM')"
   ]
  },
  {
   "cell_type": "markdown",
   "id": "afc54dd7",
   "metadata": {},
   "source": [
    "Define Problem Statement: we are trying to predict premium"
   ]
  },
  {
   "cell_type": "code",
   "execution_count": 35,
   "id": "88172bea",
   "metadata": {},
   "outputs": [
    {
     "data": {
      "text/plain": [
       "Index(['SEX', 'INSR_TYPE', 'INSURED_VALUE', 'PREMIUM', 'OBJECT_ID',\n",
       "       'PROD_YEAR', 'SEATS_NUM', 'CARRYING_CAPACITY', 'CCM_TON', 'INSR_BEGIN',\n",
       "       'INSR_END', 'EFFECTIVE_YR', 'TYPE_VEHICLE', 'MAKE', 'USAGE'],\n",
       "      dtype='object')"
      ]
     },
     "execution_count": 35,
     "metadata": {},
     "output_type": "execute_result"
    }
   ],
   "source": [
    "motor_data.columns"
   ]
  },
  {
   "cell_type": "code",
   "execution_count": 46,
   "id": "dc4f37cb",
   "metadata": {},
   "outputs": [],
   "source": [
    "#import libraries\n",
    "from sklearn.model_selection import train_test_split\n",
    "from sklearn.metrics import mean_squared_error"
   ]
  },
  {
   "cell_type": "code",
   "execution_count": 57,
   "id": "83493dfb",
   "metadata": {},
   "outputs": [],
   "source": [
    "#split the data into the target variables and features \n",
    "#make PREMIUM column as the target variable \n",
    "\n",
    "X = motor_data.drop('PREMIUM', axis=1)\n",
    "y = motor_data['PREMIUM']"
   ]
  },
  {
   "cell_type": "code",
   "execution_count": 58,
   "id": "f1a2971b",
   "metadata": {},
   "outputs": [
    {
     "data": {
      "text/plain": [
       "((406736, 14), (101685, 14), (406736,), (101685,))"
      ]
     },
     "execution_count": 58,
     "metadata": {},
     "output_type": "execute_result"
    }
   ],
   "source": [
    "# Split the data into a training set and a test set\n",
    "\n",
    "X_train, X_test, y_train, y_test = train_test_split(X, y, test_size=0.2, random_state=42)\n",
    "\n",
    "X_train.shape, X_test.shape, y_train.shape, y_test.shape"
   ]
  },
  {
   "cell_type": "code",
   "execution_count": 59,
   "id": "2c4c307c",
   "metadata": {},
   "outputs": [
    {
     "data": {
      "text/plain": [
       "0.3467933778643333"
      ]
     },
     "execution_count": 59,
     "metadata": {},
     "output_type": "execute_result"
    }
   ],
   "source": [
    "# import our linear regression model\n",
    "from sklearn.linear_model import LinearRegression\n",
    "\n",
    "#instantiate the model\n",
    "model = LinearRegression()\n",
    "\n",
    "# Fit the model on the training data\n",
    "model.fit(X_train, y_train)\n",
    "\n",
    "# score model on the testing data\n",
    "model.score(X_test, y_test)"
   ]
  },
  {
   "cell_type": "code",
   "execution_count": 60,
   "id": "ccdda9ad",
   "metadata": {},
   "outputs": [
    {
     "name": "stdout",
     "output_type": "stream",
     "text": [
      "R2 score:  0.3467933778643333\n",
      "Mean square error:  21327189.529659577\n",
      "MSE: 21327189.53\n"
     ]
    }
   ],
   "source": [
    "# Make predictions on the test data\n",
    "y_pred = model.predict(X_test)\n",
    "\n",
    "# check our r2 score\n",
    "from sklearn.metrics import r2_score, mean_squared_error\n",
    "\n",
    "print('R2 score: ', r2_score(y_test, y_pred))\n",
    "print('Mean square error: ', mean_squared_error(y_test, y_pred))\n",
    "\n",
    "# Evaluate the model's performance\n",
    "mse = mean_squared_error(y_test, y_pred)\n",
    "print(f'MSE: {mse:.2f}')"
   ]
  },
  {
   "cell_type": "markdown",
   "id": "7b6cd992",
   "metadata": {},
   "source": [
    "The lower R-squared values indicate higher differences between the predicted values from the observed data."
   ]
  },
  {
   "cell_type": "code",
   "execution_count": 61,
   "id": "b7f34818",
   "metadata": {},
   "outputs": [
    {
     "name": "stdout",
     "output_type": "stream",
     "text": [
      "Intercept:  10068669.404420748\n",
      "                   Coefficient\n",
      "SEX                -379.655926\n",
      "INSR_TYPE           234.835974\n",
      "INSURED_VALUE         0.002118\n",
      "OBJECT_ID            -0.002101\n",
      "PROD_YEAR            77.156481\n",
      "SEATS_NUM            57.613864\n",
      "CARRYING_CAPACITY     0.021601\n",
      "CCM_TON               0.160320\n",
      "INSR_BEGIN           -0.322242\n",
      "INSR_END             -0.136594\n",
      "EFFECTIVE_YR          9.446061\n",
      "TYPE_VEHICLE        222.925412\n",
      "MAKE                  4.443915\n",
      "USAGE               -89.723496\n"
     ]
    }
   ],
   "source": [
    "# Display the coefficients\n",
    "coefficients = pd.DataFrame(model.coef_, X.columns, columns=['Coefficient'])\n",
    "print('Intercept: ', model.intercept_)\n",
    "print(coefficients)"
   ]
  },
  {
   "cell_type": "code",
   "execution_count": 62,
   "id": "85ecd711",
   "metadata": {},
   "outputs": [
    {
     "name": "stdout",
     "output_type": "stream",
     "text": [
      "Actual value:  5181.2670277779835\n",
      "Predicted value:  [7447.3904236]\n"
     ]
    }
   ],
   "source": [
    "## make a prediction using one sample row and compare the actual value\n",
    "sample = X_train.sample()\n",
    "print('Actual value: ', y_train.loc[sample.index[0]])\n",
    "print('Predicted value: ', model.predict(sample))"
   ]
  },
  {
   "cell_type": "code",
   "execution_count": 70,
   "id": "6bce64a3",
   "metadata": {},
   "outputs": [
    {
     "name": "stdout",
     "output_type": "stream",
     "text": [
      "Mean Squared Error: 21327189.65\n"
     ]
    }
   ],
   "source": [
    "import numpy as np\n",
    "import pandas as pd\n",
    "from sklearn.linear_model import Ridge\n",
    "from sklearn.model_selection import train_test_split\n",
    "from sklearn.metrics import mean_squared_error\n",
    "\n",
    "# Initialize Ridge regression model\n",
    "ridge_model = Ridge(alpha=2.0)  # You can adjust the alpha (penalty) value\n",
    "\n",
    "# Fit the model\n",
    "ridge_model.fit(X_train, y_train)\n",
    "\n",
    "# Make predictions\n",
    "y_pred = ridge_model.predict(X_test)\n",
    "\n",
    "# Evaluate model performance (e.g., mean squared error)\n",
    "mse = mean_squared_error(y_test, y_pred)\n",
    "print(f\"Mean Squared Error: {mse:.2f}\")"
   ]
  },
  {
   "cell_type": "markdown",
   "id": "2ef4c990",
   "metadata": {},
   "source": [
    "Model Tuning"
   ]
  },
  {
   "cell_type": "markdown",
   "id": "1089eedd",
   "metadata": {},
   "source": [
    "Since we are using regression model, we will use for Ridge model for optimizing the performance of the regression model."
   ]
  },
  {
   "cell_type": "code",
   "execution_count": 75,
   "id": "7ffd6309",
   "metadata": {},
   "outputs": [
    {
     "name": "stdout",
     "output_type": "stream",
     "text": [
      "0.1\n"
     ]
    }
   ],
   "source": [
    "#import libraries\n",
    "from numpy import arange\n",
    "from sklearn.linear_model import Ridge\n",
    "from sklearn.linear_model import RidgeCV\n",
    "from sklearn.model_selection import RepeatedKFold\n",
    "\n",
    "#define predictor and response variables\n",
    "X = motor_data[[\"PROD_YEAR\", \"INSR_TYPE\", \"SEATS_NUM\", \"TYPE_VEHICLE\"]]\n",
    "y = motor_data[\"PREMIUM\"]\n",
    "\n",
    "#define cross-validation method to evaluate model\n",
    "cv = RepeatedKFold(n_splits=10, n_repeats=3, random_state=1)\n",
    "\n",
    "#define model\n",
    "model = RidgeCV(alphas=arange(0.1, 10, 0.01), cv=cv, scoring='neg_mean_absolute_error')\n",
    "\n",
    "#fit model\n",
    "model.fit(X, y)\n",
    "\n",
    "#display alpha that produced the lowest test MSE\n",
    "print(model.alpha_)"
   ]
  },
  {
   "cell_type": "code",
   "execution_count": 76,
   "id": "7ecb7694",
   "metadata": {},
   "outputs": [
    {
     "name": "stdout",
     "output_type": "stream",
     "text": [
      "[  74.91788991 -848.21267141  104.01990774  549.2262336 ]\n"
     ]
    }
   ],
   "source": [
    "#fit the final ridge regression model and display the coefficients:\n",
    "\n",
    "#fit final model\n",
    "final_model = Ridge(alpha=0.1)\n",
    "final_model.fit(X, y)\n",
    "\n",
    "#display coefficients\n",
    "print(final_model.coef_)"
   ]
  },
  {
   "cell_type": "code",
   "execution_count": 77,
   "id": "5697e137",
   "metadata": {},
   "outputs": [
    {
     "name": "stdout",
     "output_type": "stream",
     "text": [
      "[  74.91789693 -848.21378261  104.01991411  549.22629317]\n"
     ]
    }
   ],
   "source": [
    "#compare these coefficients with the ones from the original regression model:\n",
    "\n",
    "#import library\n",
    "from sklearn.linear_model import LinearRegression\n",
    "\n",
    "#fit normal regression model\n",
    "normal_model = LinearRegression()\n",
    "normal_model.fit(X, y)\n",
    "\n",
    "#display coefficients\n",
    "print(normal_model.coef_)"
   ]
  },
  {
   "cell_type": "code",
   "execution_count": null,
   "id": "c8dedf3f",
   "metadata": {},
   "outputs": [],
   "source": []
  }
 ],
 "metadata": {
  "kernelspec": {
   "display_name": "Python 3 (ipykernel)",
   "language": "python",
   "name": "python3"
  },
  "language_info": {
   "codemirror_mode": {
    "name": "ipython",
    "version": 3
   },
   "file_extension": ".py",
   "mimetype": "text/x-python",
   "name": "python",
   "nbconvert_exporter": "python",
   "pygments_lexer": "ipython3",
   "version": "3.11.5"
  }
 },
 "nbformat": 4,
 "nbformat_minor": 5
}
